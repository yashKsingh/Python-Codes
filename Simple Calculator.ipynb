{
 "cells": [
  {
   "cell_type": "code",
   "execution_count": 1,
   "id": "4f69eb51",
   "metadata": {},
   "outputs": [
    {
     "name": "stdout",
     "output_type": "stream",
     "text": [
      "Sum:  20.0\n",
      "Difference:  0.0\n",
      "Product:  100.0\n",
      "Quotient:  1.0\n"
     ]
    }
   ],
   "source": [
    "### Simple Calculator\n",
    "num1= float(input(\"Enter your first number: \"))\n",
    "num2= float(input(\"Enter your second number: \"))\n",
    "\n",
    "sum= num1+num1\n",
    "difference= num1-num2\n",
    "product= num1*num2\n",
    "quotient= num1/num2\n",
    "\n",
    "print(\"Sum: \", sum)\n",
    "print(\"Difference: \", difference)\n",
    "print(\"Product: \", product)\n",
    "print(\"Quotient: \", quotient)\n",
    "\n"
   ]
  },
  {
   "cell_type": "code",
   "execution_count": null,
   "id": "5eb41a56",
   "metadata": {},
   "outputs": [
    {
     "name": "stdout",
     "output_type": "stream",
     "text": [
      "Sum:  14.0\n",
      "Difference:  6.0\n",
      "Product:  40.0\n",
      "Quotient:  2.5\n",
      "floor division: 2.0\n",
      "modulus: 2.0\n",
      "exponentiation: 10000.0\n"
     ]
    }
   ],
   "source": [
    "### Simple Calculator with some operators\n",
    "\n",
    "num1= float(input(\"Enter your first number: \"))\n",
    "num2= float(input(\"Enter your second number: \"))\n",
    "\n",
    "sum= num1+num2\n",
    "difference= num1-num2\n",
    "product= num1*num2\n",
    "quotient= num1/num2\n",
    "floordivision= num1//num2\n",
    "modulus= num1%num2\n",
    "exponentiation= num1**num2\n",
    "\n",
    "print(\"Sum: \", sum)\n",
    "print(\"Difference: \", difference)\n",
    "print(\"Product: \", product)\n",
    "print(\"Quotient: \", quotient)\n",
    "print(\"floor division:\", floordivision)\n",
    "print(\"modulus:\", modulus)\n",
    "print(\"exponentiation:\", exponentiation)"
   ]
  },
  {
   "cell_type": "code",
   "execution_count": null,
   "id": "a19dab90",
   "metadata": {},
   "outputs": [],
   "source": []
  }
 ],
 "metadata": {
  "kernelspec": {
   "display_name": "Python 3",
   "language": "python",
   "name": "python3"
  },
  "language_info": {
   "codemirror_mode": {
    "name": "ipython",
    "version": 3
   },
   "file_extension": ".py",
   "mimetype": "text/x-python",
   "name": "python",
   "nbconvert_exporter": "python",
   "pygments_lexer": "ipython3",
   "version": "3.12.0"
  }
 },
 "nbformat": 4,
 "nbformat_minor": 5
}
